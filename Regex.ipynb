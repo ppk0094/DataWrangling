{
 "cells": [
  {
   "cell_type": "markdown",
   "metadata": {},
   "source": [
    "# FIT5196 Assessment 1: \n",
    "# Task1: Parsing Raw Text Files\n",
    "#### Student Name: Prashantkumar P Kulkarni\n",
    "#### Student ID: 29470811\n",
    "\n",
    "Date:01-09-2018\n",
    "\n",
    "Environment: Python 3.6 and Jupyter notebook\n",
    "Libraries used: \n",
    "* JSON (for converting to JSON format)\n",
    "* re (for regular expression, included in Anaconda Python 2.7) "
   ]
  },
  {
   "cell_type": "markdown",
   "metadata": {},
   "source": [
    "### Importing Libraries"
   ]
  },
  {
   "cell_type": "code",
   "execution_count": 6,
   "metadata": {},
   "outputs": [],
   "source": [
    "import re\n",
    "import json"
   ]
  },
  {
   "cell_type": "markdown",
   "metadata": {},
   "source": [
    "### Reading the file and splitting the file into list of resumes\n",
    " 1) Open the dataset file given, in Read mode\n",
    " 2) Split the resume into the list of individual resumes\n",
    " 3) Remove the last element as it is null"
   ]
  },
  {
   "cell_type": "code",
   "execution_count": 20,
   "metadata": {},
   "outputs": [],
   "source": [
    "file = open('29470811.dat','r')\n",
    "file_read = file.read()\n",
    "file.close()\n",
    "resume_list = file_read.split('------------------------------')\n",
    "resume_list.remove(resume_list[30735])"
   ]
  },
  {
   "cell_type": "markdown",
   "metadata": {},
   "source": [
    "### Identifying the pattern of the keys \n",
    "From the observation of some individual resumes, we find that keys start at the begining of the line and hence precede by \\n.         \n",
    "1) UpperCase keys: The pattern of uppercase letters are                                                               \n",
    " a) Single Uppercase Keys: These are the keys which have a single word and a colon followed (Eg: 'KEY:')         \n",
    " b) Double Uppercase Keys: These are the keys which have two words seperated by either special characters('-','_' )or 'Space' (Eg: key_key)\n",
    "2) LowerCase with special characters: These keys are the single word keys preceeded by ('-','_' ) (Eg: '_key)\n",
    "3) LowerCase keys: Unique LowerCase keys consisting of single word followed colon('key:') \n",
    "\n",
    " The uppercase keys and Lower Case keys with special characters are identifiable, but LowerCase keys are not, so we will analyse and filter the only valid keys out of it."
   ]
  },
  {
   "cell_type": "code",
   "execution_count": 26,
   "metadata": {},
   "outputs": [
    {
     "name": "stdout",
     "output_type": "stream",
     "text": [
      "175\n"
     ]
    }
   ],
   "source": [
    "small_keys = []\n",
    "for each in resume_list:\n",
    "    small_keys= small_keys + (re.findall(r'\\n[a-z]*:',each))\n",
    "print(len(set(small_keys)))"
   ]
  },
  {
   "cell_type": "markdown",
   "metadata": {},
   "source": [
    "Out of 175 keys after analysing all these keys, we conclude that only \\nsalary:, \\nresponsibilities:, \\ndeadline:, \\nprocedures:,\\nqualifications:, \\nremuneration:,\\ntitle: are the only valid keys."
   ]
  },
  {
   "cell_type": "markdown",
   "metadata": {},
   "source": [
    "#### Converting all keys into a proper format\n",
    "Having all the keys in one proper format is important to fetch all the keys easily and hence we convert all the keys to a proper format\n",
    "\n",
    "\n",
    "\n"
   ]
  },
  {
   "cell_type": "code",
   "execution_count": 30,
   "metadata": {},
   "outputs": [],
   "source": [
    "updated_resume_list = []\n",
    "for each in resume_list:\n",
    "\n",
    "    lower_keys = re.findall(r'\\n[a-z]*[-_/]+[a-z]+:|\\nsalary:|\\nresponsibilities:|\\ndeadline:|\\nprocedures:|\\nqualifications:|\\nremuneration:|\\ntitle:',each)\n",
    "    upper_keys = re.findall(r'\\n[A-Z]+ [A-Z]+:',each)\n",
    "    \n",
    "    for value in lower_keys:\n",
    "        if (value):\n",
    "            each=each.replace(value,value.upper())\n",
    "        \n",
    "    for value in upper_keys:\n",
    "        if (value):\n",
    "            each = each.replace(value,value.replace(' ','_'))\n",
    "    updated_resume_list.append(each)"
   ]
  },
  {
   "cell_type": "markdown",
   "metadata": {},
   "source": [
    "#### Now the updated list will have the keys which are all in uppercase(Either with or without '-','_')"
   ]
  },
  {
   "cell_type": "markdown",
   "metadata": {},
   "source": [
    "### Creating a list of unique keys with similar pattern\n",
    "First will create a list of all keys with similar pattern(Keys having same meaning)\n",
    "Convert all the keys to a general key for all the resumes and add it to a new list"
   ]
  },
  {
   "cell_type": "code",
   "execution_count": 43,
   "metadata": {},
   "outputs": [],
   "source": [
    "resume_list = []\n",
    "for each in updated_resume_list:\n",
    "    \n",
    "    reg_about = re.findall(r'\\nABOUT.*|\\n.*INFO.*:',each)\n",
    "    reg_location = re.findall(r'\\n.*LOC.*:',each)\n",
    "    reg_deadline = re.findall(r'\\nDEAD.*:|\\nAPP.*:',each)\n",
    "    reg_procedure = re.findall(r'\\n.*PROC.*:',each)\n",
    "    reg_start = re.findall(r'\\n.*DA.*:',each)\n",
    "    reg_description = re.findall(r'\\n.*DESC.*:',each)\n",
    "    reg_salary = re.findall(r'\\n.*SAL.*:|\\n.*REMU.*:',each)\n",
    "    reg_responsibility = re.findall(r'\\n.*RESP.*:',each)\n",
    "    reg_title = re.findall(r'\\nJOB_T.*:|\\n_TTL:|\\n.*TITLE.*:',each)\n",
    "    reg_qualification = re.findall(r'\\n.*QUAL.*:',each)\n",
    "    reg_responsibility = re.findall(r'\\nRESP.*:',each)\n",
    "    \n",
    "    for value in reg_about:\n",
    "        if(value):\n",
    "            each = each.replace(value,'\\nABOUT_COMPANY:')\n",
    "    for value in reg_location:\n",
    "        if(value):\n",
    "            each = each.replace(value,'\\nJOB_LOCATION:')\n",
    "    for value in reg_deadline:\n",
    "        if(value):\n",
    "            each = each.replace(value,'\\nAPPLICATION_DEADLINE:')\n",
    "    for value in reg_procedure:\n",
    "        if(value):\n",
    "            each = each.replace(value,'\\nPROCEDURE:')\n",
    "    for value in reg_start:\n",
    "        if(value):\n",
    "            each = each.replace(value,'\\nSTART_DATE:')\n",
    "    for value in reg_description:\n",
    "        if(value):\n",
    "            each = each.replace(value,'\\nJOB_DESCRIPTION:')\n",
    "    for value in reg_salary:\n",
    "        if(value):\n",
    "            each = each.replace(value,'\\nSALARY:')\n",
    "            \n",
    "    for value in reg_responsibility:\n",
    "        if(value):\n",
    "            each = each.replace(value,'\\nJOB_RESPONSIBILITIES:')\n",
    "    for value in reg_title:\n",
    "        if(value):\n",
    "            each = each.replace(value,'\\nJOB_TITLE:')\n",
    "    for value in reg_qualification:\n",
    "        if(value):\n",
    "            each = each.replace(value,'\\nJOB_QUALIFICATIONS:')\n",
    "            \n",
    "    resume_list.append(each)"
   ]
  },
  {
   "cell_type": "markdown",
   "metadata": {},
   "source": [
    "### Fetching the keys and values using regular expression\n",
    "\n",
    "All the keys and their respective values will be fetched and stored in a dictionary"
   ]
  },
  {
   "cell_type": "code",
   "execution_count": 202,
   "metadata": {},
   "outputs": [],
   "source": [
    "dictionary =[]\n",
    "for each in resume_list:\n",
    "    \n",
    "    reg = re.finditer(r'([A-Z]*[' ']*[-_/]*[A-Z]+:/*\\n*)([\\s\\S]*?)(?=[A-Z]*[ -_/]*[A-Z]+[:/]+|$)',each, re.DOTALL)\n",
    "    ID = \"\"\n",
    "    title = \"\"\n",
    "    salary = \"\" \n",
    "    start = \"\" \n",
    "    about = \"\" \n",
    "    qualification = []\n",
    "    procedure = \"\" \n",
    "    responsibility = []\n",
    "    deadline = \"\" \n",
    "    remuneration = \"\" \n",
    "    description =[]\n",
    "    location = \"\" \n",
    "    value_title = \"N/A\"\n",
    "    value_about = \"N/A\"\n",
    "    value_start = \"N/A\"\n",
    "    value_qualification = [\"N/A\"]\n",
    "    value_salary = \"N/A\"\n",
    "    value_procedure = \"N/A\"\n",
    "    value_location = \"N/A\"\n",
    "    value_deadline = \"N/A\"\n",
    "    value_responsibility = [\"N/A\"]\n",
    "    value_description = [\"N/A\"]\n",
    "    value_remuneration = \"N/A\"\n",
    "    listing = []\n",
    "    \n",
    "    for each in reg:\n",
    "        \n",
    "            if (each.group(1)=='ID:'):\n",
    "                value_id = each.group(2).strip()\n",
    "                value_id = value_id.replace('\\n','')\n",
    "                ID = ID + str(value_id)\n",
    "                \n",
    "            elif each.group(1) in ('JOB_TITLE:','JOB_TITLE:\\n'):\n",
    "                if(each.group(2)):\n",
    "                    value_title = each.group(2).replace('\\n','')\n",
    "                    value_title = value_title.strip()\n",
    "                    \n",
    "            elif each.group(1) in ('ABOUT_COMPANY:','ABOUT_COMPANY:\\n'):\n",
    "                if(each.group(2)):\n",
    "                    value_about = each.group(2).replace('\\n','')\n",
    "                    value_about = value_about.strip()\n",
    "                    \n",
    "            elif each.group(1) in ('START_DATE:','START_DATE:\\n'):\n",
    "                if(each.group(2)):\n",
    "                    value_start = each.group(2).replace('\\n','')\n",
    "                    value_start = value_start.strip()\n",
    "                    \n",
    "            elif each.group(1)in('SALARY:','SALARY:\\n'):\n",
    "                if(each.group(2)):\n",
    "                    value_salary = each.group(2).replace('\\n','')\n",
    "                    value_salary = value_salary.strip()\n",
    "                    \n",
    "            elif each.group(1) in ('PROCEDURE:','PROCEDURE:\\n'):\n",
    "                if(each.group(2)):\n",
    "                    value_procedure = each.group(2).replace('\\n','')\n",
    "                    value_procedure = value_procedure.strip()\n",
    "                    \n",
    "            elif each.group(1)in('JOB_LOCATION:','JOB_LOCATION:\\n'):\n",
    "                if(each.group(2)):\n",
    "                    value_location = each.group(2).replace('\\n','')\n",
    "                    value_location = value_location.strip()\n",
    "                    \n",
    "            elif each.group(1)in('APPLICATION_DEADLINE:','APPLICATION_DEADLINE:\\n'):\n",
    "                if(each.group(2)):\n",
    "                    value_deadline = each.group(2).replace('\\n','')\n",
    "                    value_deadline = value_deadline.strip()\n",
    "                    \n",
    "                        \n",
    "            elif each.group(1)in('JOB_DESCRIPTION:','JOB_DESCRIPTION:\\n'):\n",
    "                if(each.group(2)):\n",
    "                    value_desc = each.group(2).strip()\n",
    "                    #value_desc = value_desc.replace('. ','.')\n",
    "                    value_desc = value_desc.replace('\\n',' ')\n",
    "                    value_desc = value_desc.split('. ')\n",
    "                    value_description = []\n",
    "                    for each in value_desc:\n",
    "                        if(each!=each.upper()):\n",
    "                            each = each.strip()\n",
    "                            #each = each.replace('\\','')\n",
    "                            value_description.append(each)\n",
    "                    \n",
    "            elif each.group(1)in('JOB_RESPONSIBILITIES:','JOB_RESPONSIBILITIES:\\n'):\n",
    "                if(each.group(2)):\n",
    "                    value_response = each.group(2).strip()\n",
    "                    value_response = value_response.split('\\n-')\n",
    "                    value_responsibility = []\n",
    "                    for each in value_response:\n",
    "                        if(each!=each.upper()):\n",
    "                            each = each.strip()\n",
    "                            each = each.replace('\\n',' ')\n",
    "                            each = each.replace('- ','')\n",
    "                            each = each.replace(';','')\n",
    "                            each = each.replace('.','')\n",
    "                            value_responsibility.append(each)\n",
    "                        \n",
    "        \n",
    "            elif each.group(1)in('JOB_QUALIFICATIONS:','JOB_QUALIFICATIONS:\\n'):\n",
    "                if(each.group(2)):\n",
    "                    value_qual = each.group(2).strip()\n",
    "                    value_qual = value_qual.split('\\n-')\n",
    "                    value_qualification = []\n",
    "                    for each in value_qual:\n",
    "                        if(each!=each.upper()):\n",
    "                            each = each.strip()\n",
    "                            each = each.replace('\\n',' ')\n",
    "                            each = each.replace(';','')\n",
    "                            each = each.replace('.','')\n",
    "                            value_qualification.append(each)\n",
    "            \n",
    "    title = title + str(value_title)\n",
    "    salary = salary+str(value_salary)\n",
    "    start=start+str(value_start)\n",
    "    about=about+str(value_about)\n",
    "    qualification=qualification+value_qualification\n",
    "    procedure=procedure+str(value_procedure)\n",
    "    responsibility=responsibility+value_responsibility\n",
    "    deadline=deadline+str(value_deadline)\n",
    "    #remuneration=remuneration+str(value_remuneration)\n",
    "    description=description+(value_description)\n",
    "    location=location+str(value_location)\n",
    "    \n",
    "    dictionary_listing = {'_id':ID,'title':title,'location':location,'job_descriptions':{'description':description},'job_responsibilities':{'responsibility':responsibility},\n",
    "             'required_qualifications':{\"qualification\":qualification},'salary':salary,'application_procedure':procedure,'start_date':start,'application_deadline':deadline,\n",
    "             'about_company':about}\n",
    "    \n",
    "    listing.append(dictionary_listing)\n",
    "    \n",
    "    dictionary.append({\"listing\":listing})\n",
    "    \n",
    "\n",
    "\n",
    "json_dictionary = {'listings' : dictionary1}"
   ]
  },
  {
   "cell_type": "markdown",
   "metadata": {},
   "source": [
    "### Using JSON's json.dumps we convert our final dictionary to JSON file"
   ]
  },
  {
   "cell_type": "code",
   "execution_count": 255,
   "metadata": {},
   "outputs": [],
   "source": [
    "with open('29470811.json', 'w') as file:\n",
    "    file.write(json.dumps(json_dictionary, indent = 4))"
   ]
  }
 ],
 "metadata": {
  "kernelspec": {
   "display_name": "Python 3",
   "language": "python",
   "name": "python3"
  },
  "language_info": {
   "codemirror_mode": {
    "name": "ipython",
    "version": 3
   },
   "file_extension": ".py",
   "mimetype": "text/x-python",
   "name": "python",
   "nbconvert_exporter": "python",
   "pygments_lexer": "ipython3",
   "version": "3.6.4"
  }
 },
 "nbformat": 4,
 "nbformat_minor": 2
}
